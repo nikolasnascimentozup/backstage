{
  "nbformat": 4,
  "nbformat_minor": 0,
  "metadata": {
    "colab": {
      "name": "Github Integration.ipynb",
      "provenance": [],
      "collapsed_sections": [],
      "toc_visible": true,
      "authorship_tag": "ABX9TyOaIw+cHVqyoASXKKJg7CDl",
      "include_colab_link": true
    },
    "kernelspec": {
      "name": "python3",
      "display_name": "Python 3"
    }
  },
  "cells": [
    {
      "cell_type": "markdown",
      "metadata": {
        "id": "view-in-github",
        "colab_type": "text"
      },
      "source": [
        "<a href=\"https://colab.research.google.com/github/nikolasnascimentozup/backstage/blob/master/Github_Integration.ipynb\" target=\"_parent\"><img src=\"https://colab.research.google.com/assets/colab-badge.svg\" alt=\"Open In Colab\"/></a>"
      ]
    },
    {
      "cell_type": "code",
      "metadata": {
        "id": "ilLtQsM68hlk",
        "colab_type": "code",
        "colab": {}
      },
      "source": [
        "\n"
      ],
      "execution_count": null,
      "outputs": []
    },
    {
      "cell_type": "code",
      "metadata": {
        "id": "nWcww6rOXZ5i",
        "colab_type": "code",
        "colab": {
          "base_uri": "https://localhost:8080/",
          "height": 71
        },
        "outputId": "144f5d54-cef7-4163-8637-1377b561509c"
      },
      "source": [
        "# Mount Google Drive\n",
        "from google.colab import drive # import drive from google colab\n",
        "\n",
        "ROOT = \"/content/drive\"     # default location for the drive\n",
        "print(ROOT)                 # print content of ROOT (Optional)\n",
        "\n",
        "drive.mount(ROOT)         # we mount the google drive at /content/drive"
      ],
      "execution_count": 1,
      "outputs": [
        {
          "output_type": "stream",
          "text": [
            "/content/drive\n",
            "Drive already mounted at /content/drive; to attempt to forcibly remount, call drive.mount(\"/content/drive\", force_remount=True).\n"
          ],
          "name": "stdout"
        }
      ]
    },
    {
      "cell_type": "code",
      "metadata": {
        "id": "5imh4s-I8-mD",
        "colab_type": "code",
        "colab": {
          "base_uri": "https://localhost:8080/",
          "height": 34
        },
        "outputId": "bea30ba2-9f13-40ba-8bdd-d94f45e2c61c"
      },
      "source": [
        "#change directory to My Drive\n",
        "%cd 'drive/My Drive/Github'/ \n"
      ],
      "execution_count": 2,
      "outputs": [
        {
          "output_type": "stream",
          "text": [
            "/content/drive/My Drive/Github\n"
          ],
          "name": "stdout"
        }
      ]
    },
    {
      "cell_type": "code",
      "metadata": {
        "id": "pMMWYGeQLtCJ",
        "colab_type": "code",
        "colab": {}
      },
      "source": [
        "import configparser"
      ],
      "execution_count": 3,
      "outputs": []
    },
    {
      "cell_type": "code",
      "metadata": {
        "id": "7UeLW_giL3Fr",
        "colab_type": "code",
        "colab": {
          "base_uri": "https://localhost:8080/",
          "height": 34
        },
        "outputId": "bbaca84c-b233-47d2-97b1-7ae6ed00172d"
      },
      "source": [
        "config = configparser.ConfigParser() \n",
        "config.read(\"env.config\")"
      ],
      "execution_count": 4,
      "outputs": [
        {
          "output_type": "execute_result",
          "data": {
            "text/plain": [
              "['env.config']"
            ]
          },
          "metadata": {
            "tags": []
          },
          "execution_count": 4
        }
      ]
    },
    {
      "cell_type": "code",
      "metadata": {
        "id": "KQKlJ6shMCC8",
        "colab_type": "code",
        "colab": {
          "base_uri": "https://localhost:8080/",
          "height": 54
        },
        "outputId": "0c9a1efa-f164-48ab-dff9-f585c6dd0d62"
      },
      "source": [
        "# Path to your project on Google Drive that will host the files\n",
        "MY_GOOGLE_DRIVE_PATH = config[\"GOOGLEDRIVE\"][\"PATH\"]\n",
        "\n",
        "#Github user name\n",
        "GIT_USERNAME = config[\"GITHUB\"][\"USERNAME\"]\n",
        "\n",
        "#Repository that you want to clone\n",
        "GIT_REPOSITORY = config[\"GITHUB\"][\"REPO\"]\n",
        "\n",
        "#Githun Token Credentials\n",
        "GIT_TOKEN = config[\"CREDENTIALS\"][\"GIT_TOKEN\"]\n",
        "\n",
        "print(f\"Retrieving keys for: Google Path: {MY_GOOGLE_DRIVE_PATH} Git Username:{GIT_USERNAME} Git Token:{GIT_TOKEN} Git Repo: {GIT_REPOSITORY}\")"
      ],
      "execution_count": 5,
      "outputs": [
        {
          "output_type": "stream",
          "text": [
            "Retrieving keys for: Google Path: My Drive/Github2 Git Username:zupit Git Token:402fb1ebbd8782069d04e1868786f303b51174eb Git Repo: insights-data\n"
          ],
          "name": "stdout"
        }
      ]
    },
    {
      "cell_type": "code",
      "metadata": {
        "id": "gy9d1JeY9Eab",
        "colab_type": "code",
        "colab": {
          "base_uri": "https://localhost:8080/",
          "height": 71
        },
        "outputId": "4badac58-0caf-4a96-d7dc-e727a64e776d"
      },
      "source": [
        "# Clone github repository setup\n",
        "# import join used to join ROOT path and MY_GOOGLE_DRIVE_PATH\n",
        "from os.path import join  \n",
        "\n",
        "PROJECT_PATH = join(ROOT, MY_GOOGLE_DRIVE_PATH)\n",
        "\n",
        "# It's good to print out the value if you are not sure \n",
        "print(\"PROJECT_PATH: \", PROJECT_PATH)   \n",
        "\n",
        "# In case we haven't created the folder already; we will create a folder in the project path \n",
        "!mkdir \"{PROJECT_PATH}\"    \n",
        "\n",
        "GIT_PATH = \"https://\" + GIT_TOKEN + \"@github.com/\" + GIT_USERNAME + \"/\" + GIT_REPOSITORY + \".git\"\n",
        "\n",
        "print(\"GIT_PATH: \", GIT_PATH)"
      ],
      "execution_count": 6,
      "outputs": [
        {
          "output_type": "stream",
          "text": [
            "PROJECT_PATH:  /content/drive/My Drive/Github2\n",
            "GIT_PATH:  https://402fb1ebbd8782069d04e1868786f303b51174eb@github.com/zupit/insights-data.git\n"
          ],
          "name": "stdout"
        }
      ]
    },
    {
      "cell_type": "code",
      "metadata": {
        "id": "ZU2rGzNjFunQ",
        "colab_type": "code",
        "colab": {
          "base_uri": "https://localhost:8080/",
          "height": 170
        },
        "outputId": "7d03dedd-eb42-4f2e-a8e4-928187591858"
      },
      "source": [
        "# Change directory to the location defined in project_path\n",
        "%cd \"{PROJECT_PATH}\"    \n",
        "# clone the github repository\n",
        "!git checkout master\n",
        "!git clone \"{GIT_PATH}\" "
      ],
      "execution_count": 7,
      "outputs": [
        {
          "output_type": "stream",
          "text": [
            "/content/drive/My Drive/Github2\n",
            "fatal: not a git repository (or any parent up to mount point /content)\n",
            "Stopping at filesystem boundary (GIT_DISCOVERY_ACROSS_FILESYSTEM not set).\n",
            "Cloning into 'insights-data'...\n",
            "remote: Enumerating objects: 46, done.\u001b[K\n",
            "remote: Counting objects: 100% (46/46), done.\u001b[K\n",
            "remote: Compressing objects: 100% (36/36), done.\u001b[K\n",
            "remote: Total 46 (delta 6), reused 31 (delta 4), pack-reused 0\u001b[K\n",
            "Unpacking objects: 100% (46/46), done.\n"
          ],
          "name": "stdout"
        }
      ]
    }
  ]
}